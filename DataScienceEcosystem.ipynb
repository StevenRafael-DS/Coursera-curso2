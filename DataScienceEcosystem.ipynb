{
 "cells": [
  {
   "cell_type": "markdown",
   "id": "40499062-5d08-4203-b8f5-db9834c01dbe",
   "metadata": {},
   "source": [
    "# Data Science Rools and Ecosysten"
   ]
  },
  {
   "cell_type": "markdown",
   "id": "a799b62d-7bb4-4860-a96f-3854527d0d3c",
   "metadata": {},
   "source": [
    "##### *In this notebook, Data Science Tools and Ecosystem are summarized.*"
   ]
  },
  {
   "cell_type": "markdown",
   "id": "9ece35c2-827c-4426-8e7b-fbb95c7d9ba4",
   "metadata": {},
   "source": [
    "##### *Objetives:*\n",
    "- Overview of Data Science Tools\n",
    "- Languages of Data Science\n",
    "- Knows Packages, API, Data Sets, etc\n",
    "- Knows environment Jupyter Notebook and Git\n",
    "- Knows RStudio and tools"
   ]
  },
  {
   "cell_type": "markdown",
   "id": "c6e98f93-d247-4dea-baf4-f11c2fce0f63",
   "metadata": {},
   "source": [
    "### Some of the popular languages that Data Scientists use are:\n",
    "1. Python\n",
    "2. R\n",
    "3. Julia"
   ]
  },
  {
   "cell_type": "markdown",
   "id": "6f7cf201-0b2d-47a9-b012-58df90285199",
   "metadata": {},
   "source": [
    "#### Some of the commonly used libraries used by Data Scientists include:\n",
    "1. Pandas\n",
    "2. Numpy\n",
    "3. Plotly\n",
    "4. Matplolib"
   ]
  },
  {
   "cell_type": "markdown",
   "id": "0228e117-2c46-44b7-84c1-d2603c97d99b",
   "metadata": {},
   "source": [
    "## Data Science Tools.\n",
    "|Data Science Tools|\n",
    "|-----|\n",
    "|SQL|\n",
    "|NoSQL|\n",
    "|Git|\n",
    "|MongoDB|\n",
    "|Apache Airflow|"
   ]
  },
  {
   "cell_type": "markdown",
   "id": "dc6cd5d7-b901-4e4a-8d95-018cc03f1ca1",
   "metadata": {},
   "source": [
    "### Below are a few examples of evaluating arithmetic expressions in Python:\n",
    "- 5+6\n",
    "- 4/8\n",
    "- 5-4\n",
    "- 5*2"
   ]
  },
  {
   "cell_type": "code",
   "execution_count": 37,
   "id": "495bae31-4391-469e-8ad7-2f13c4764ee9",
   "metadata": {},
   "outputs": [
    {
     "data": {
      "text/plain": [
       "17"
      ]
     },
     "execution_count": 37,
     "metadata": {},
     "output_type": "execute_result"
    }
   ],
   "source": [
    "# This a simple arithmetic expression to mutiply then add integers\n",
    "(3*4)+5"
   ]
  },
  {
   "cell_type": "code",
   "execution_count": 41,
   "id": "6ee0bccc-d1a1-4c8d-8c71-78485815599f",
   "metadata": {},
   "outputs": [
    {
     "data": {
      "text/plain": [
       "3.3333333333333335"
      ]
     },
     "execution_count": 41,
     "metadata": {},
     "output_type": "execute_result"
    }
   ],
   "source": [
    "# This will convert 200 minutes to hours by diving by 60\n",
    "200/60"
   ]
  },
  {
   "cell_type": "markdown",
   "id": "cc70484e-987c-44fc-bed0-ecf68d51adf5",
   "metadata": {},
   "source": [
    "## Author\n",
    "Steven Arias"
   ]
  }
 ],
 "metadata": {
  "kernelspec": {
   "display_name": "Python 3 (ipykernel)",
   "language": "python",
   "name": "python3"
  },
  "language_info": {
   "codemirror_mode": {
    "name": "ipython",
    "version": 3
   },
   "file_extension": ".py",
   "mimetype": "text/x-python",
   "name": "python",
   "nbconvert_exporter": "python",
   "pygments_lexer": "ipython3",
   "version": "3.10.9"
  }
 },
 "nbformat": 4,
 "nbformat_minor": 5
}
